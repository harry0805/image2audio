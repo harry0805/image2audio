{
 "cells": [
  {
   "cell_type": "code",
   "execution_count": null,
   "metadata": {
    "colab": {
     "base_uri": "https://localhost:8080/"
    },
    "executionInfo": {
     "elapsed": 15117,
     "status": "ok",
     "timestamp": 1662927772147,
     "user": {
      "displayName": "Watch Look",
      "userId": "13511047437237984037"
     },
     "user_tz": 240
    },
    "id": "ynilDi3NN0Qu",
    "outputId": "8c29f748-35de-4de2-b296-0c9ce1f4f384",
    "pycharm": {
     "name": "#%%\n"
    }
   },
   "outputs": [],
   "source": [
    "import os\n",
    "# Mount Google Drive if running on Google Colab\n",
    "try:\n",
    "    from google.colab import drive\n",
    "    mount_point = '/content/drive'\n",
    "    drive.mount(mount_point)\n",
    "    os.chdir(f'{mount_point}/MyDrive/swan_class/pythonaudio')\n",
    "except ModuleNotFoundError:\n",
    "    pass\n",
    "print(f'The current working directory: \\'{os.getcwd()}\\'',)"
   ]
  },
  {
   "cell_type": "code",
   "execution_count": null,
   "metadata": {
    "colab": {
     "base_uri": "https://localhost:8080/"
    },
    "executionInfo": {
     "elapsed": 1077,
     "status": "ok",
     "timestamp": 1662927773222,
     "user": {
      "displayName": "Watch Look",
      "userId": "13511047437237984037"
     },
     "user_tz": 240
    },
    "id": "j8_xkbHFN0Qr",
    "outputId": "8ddb9fb9-30a3-4c30-98ef-df046a47b902",
    "pycharm": {
     "name": "#%%\n"
    }
   },
   "outputs": [],
   "source": [
    "# Auto reload imported libraries\n",
    "%load_ext autoreload\n",
    "%autoreload 2\n",
    "\n",
    "import librosa\n",
    "import librosa.display\n",
    "import soundfile as sf\n",
    "from IPython.display import Audio\n",
    "from scipy.io.wavfile import write\n",
    "import numpy as np\n",
    "import matplotlib.pyplot as plt\n",
    "from sklearn.preprocessing import MinMaxScaler\n",
    "from PIL import Image, ImageOps\n",
    "from processors import AudioProcessor, ImageProcessor\n",
    "import base64\n",
    "import cv2"
   ]
  },
  {
   "cell_type": "code",
   "execution_count": null,
   "metadata": {
    "executionInfo": {
     "elapsed": 398,
     "status": "ok",
     "timestamp": 1662927777106,
     "user": {
      "displayName": "Watch Look",
      "userId": "13511047437237984037"
     },
     "user_tz": 240
    },
    "id": "vJ3CL27WN0Qu",
    "pycharm": {
     "name": "#%%\n"
    }
   },
   "outputs": [],
   "source": [
    "with open('image2audio_lambda/default.png', 'rb') as file:\n",
    "    b64_file = base64.b64encode(file.read())\n",
    "\n",
    "with open('test_img.png', 'wb') as file:\n",
    "    file.write(base64.decodebytes(b64_file))"
   ]
  },
  {
   "cell_type": "code",
   "execution_count": null,
   "metadata": {
    "colab": {
     "base_uri": "https://localhost:8080/",
     "height": 705
    },
    "executionInfo": {
     "elapsed": 1693,
     "status": "ok",
     "timestamp": 1662927779328,
     "user": {
      "displayName": "Watch Look",
      "userId": "13511047437237984037"
     },
     "user_tz": 240
    },
    "id": "gPg6_wOZN0Qv",
    "outputId": "dd565226-e56e-444d-fcd5-2634118eed22",
    "pycharm": {
     "name": "#%%\n"
    }
   },
   "outputs": [],
   "source": [
    "AudioProcessor().plot_spectrogram_from_file('audio/winxpstartup.wav')\n",
    "plt.show()\n",
    "AudioProcessor().plot_wave_from_file('audio/winxpstartup.wav')"
   ]
  },
  {
   "cell_type": "code",
   "execution_count": null,
   "metadata": {
    "executionInfo": {
     "elapsed": 110,
     "status": "ok",
     "timestamp": 1662927783040,
     "user": {
      "displayName": "Watch Look",
      "userId": "13511047437237984037"
     },
     "user_tz": 240
    },
    "id": "ts0QWQzXN0Qw",
    "pycharm": {
     "name": "#%%\n"
    }
   },
   "outputs": [],
   "source": [
    "def image_to_audio(image_path, save_path=None, rotate=0, padding=3, inverse_color=False, display_image=False, volume=1, plot_spectrogram=False):\n",
    "    # Image processing\n",
    "    ip = ImageProcessor()\n",
    "    ip.load_image(image_path)\n",
    "    ip.resize(600)\n",
    "    if inverse_color:\n",
    "        ip.inverse_color()\n",
    "    if rotate:\n",
    "        ip.rotate(rotate)\n",
    "    ip.add_top_padding(padding)\n",
    "    ip.flip()\n",
    "    if display_image:\n",
    "        ip.display_image()\n",
    "\n",
    "    # Transform to Audio\n",
    "    ap = AudioProcessor(44100)\n",
    "    ap.load_image_form_array(ip.image_to_array())\n",
    "    ap.image_to_spectrogram(inverse_transform=False)\n",
    "    if plot_spectrogram:\n",
    "        ap.plot_spectrogram()\n",
    "    ap.spectrogram_to_wave()\n",
    "    ap.normalize_audio()\n",
    "    ap.change_volume(volume)\n",
    "    ap.play_sound(save_path)"
   ]
  },
  {
   "cell_type": "code",
   "execution_count": null,
   "metadata": {
    "id": "oxcw8nv0N0Qw",
    "pycharm": {
     "name": "#%%\n"
    }
   },
   "outputs": [],
   "source": [
    "image = Image.open('image/Mona_Lisa.jpg')\n",
    "image = np.array(image)\n",
    "img_gray = cv2.cvtColor(image, cv2.COLOR_BGR2GRAY)\n",
    "_, thresh = cv2.threshold(img_gray, 150, 255, cv2.THRESH_BINARY)\n",
    "contours, hierarchy = cv2.findContours(image=thresh, mode=cv2.RETR_TREE, method=cv2.CHAIN_APPROX_NONE)\n",
    "\n",
    "image_copy = image.copy() * 0\n",
    "cv2.drawContours(image=image_copy, contours=contours, contourIdx=-1, color=(255, 255, 255), thickness=2, lineType=cv2.LINE_AA)\n",
    "Image.fromarray(image_copy).save('image.png')\n",
    "Image.fromarray(image_copy)"
   ]
  },
  {
   "cell_type": "code",
   "execution_count": null,
   "metadata": {
    "colab": {
     "base_uri": "https://localhost:8080/",
     "height": 500
    },
    "executionInfo": {
     "elapsed": 5544,
     "status": "ok",
     "timestamp": 1662927791038,
     "user": {
      "displayName": "Watch Look",
      "userId": "13511047437237984037"
     },
     "user_tz": 240
    },
    "id": "nmXMHxgoN0Qx",
    "outputId": "5778e86f-fd63-4b6d-a1b7-93edddd37e22",
    "pycharm": {
     "name": "#%%\n"
    }
   },
   "outputs": [],
   "source": [
    "image_to_audio('image.png', plot_spectrogram=True)"
   ]
  },
  {
   "cell_type": "code",
   "execution_count": null,
   "metadata": {
    "executionInfo": {
     "elapsed": 127,
     "status": "ok",
     "timestamp": 1662927794749,
     "user": {
      "displayName": "Watch Look",
      "userId": "13511047437237984037"
     },
     "user_tz": 240
    },
    "id": "o_Ety3L7N0Qx",
    "pycharm": {
     "name": "#%%\n"
    }
   },
   "outputs": [],
   "source": [
    "class CropLayer(object):\n",
    "    def __init__(self, params, blobs):\n",
    "        self.xstart = 0\n",
    "        self.xend = 0\n",
    "        self.ystart = 0\n",
    "        self.yend = 0\n",
    "\n",
    "    # Our layer receives two inputs. We need to crop the first input blob\n",
    "    # to match a shape of the second one (keeping batch size and number of channels)\n",
    "    def getMemoryShapes(self, inputs):\n",
    "        inputShape, targetShape = inputs[0], inputs[1]\n",
    "        batchSize, numChannels = inputShape[0], inputShape[1]\n",
    "        height, width = targetShape[2], targetShape[3]\n",
    "\n",
    "        self.ystart = (inputShape[2] - targetShape[2]) // 2\n",
    "        self.xstart = (inputShape[3] - targetShape[3]) // 2\n",
    "        self.yend = self.ystart + height\n",
    "        self.xend = self.xstart + width\n",
    "\n",
    "        return [[batchSize, numChannels, height, width]]\n",
    "\n",
    "    def forward(self, inputs):\n",
    "        return [inputs[0][:,:,self.ystart:self.yend,self.xstart:self.xend]]"
   ]
  },
  {
   "cell_type": "code",
   "execution_count": null,
   "outputs": [],
   "source": [
    "cv2.dnn_registerLayer('Crop', CropLayer)\n",
    "net = cv2.dnn.readNet('deploy.prototxt', 'hed_pretrained_bsds.caffemodel')"
   ],
   "metadata": {
    "collapsed": false,
    "pycharm": {
     "name": "#%%\n"
    }
   }
  },
  {
   "cell_type": "code",
   "execution_count": null,
   "outputs": [],
   "source": [
    "ip = ImageProcessor()\n",
    "ip.load_image('image/b.png', mode=None)\n",
    "ip.resize()\n",
    "image_array = ip.image_array"
   ],
   "metadata": {
    "collapsed": false,
    "pycharm": {
     "name": "#%%\n"
    }
   }
  },
  {
   "cell_type": "code",
   "execution_count": null,
   "outputs": [],
   "source": [
    "inp = cv2.dnn.blobFromImage(image_array, scalefactor=1.0,\n",
    "                            mean=(104.00698793, 116.66876762, 122.67891434),\n",
    "                            swapRB=False, crop=False)\n",
    "net.setInput(inp)\n",
    "out = net.forward()"
   ],
   "metadata": {
    "collapsed": false,
    "pycharm": {
     "name": "#%%\n"
    }
   }
  },
  {
   "cell_type": "code",
   "execution_count": null,
   "outputs": [],
   "source": [
    "out = out[0, 0]\n",
    "# out = cv2.resize(out, (image_array.shape[1], image_array.shape[0]))\n",
    "out = 255 * out\n",
    "out = out.astype(np.uint8)\n",
    "# out = cv2.cvtColor(out,cv2.COLOR_GRAY2BGR)\n",
    "# con=np.concatenate((image_array,out),axis=1)\n",
    "Image.fromarray(out)\n",
    "# con"
   ],
   "metadata": {
    "collapsed": false,
    "pycharm": {
     "name": "#%%\n"
    }
   }
  },
  {
   "cell_type": "code",
   "execution_count": null,
   "outputs": [],
   "source": [
    "%%timeit\n",
    "a=1"
   ],
   "metadata": {
    "collapsed": false,
    "pycharm": {
     "name": "#%%\n"
    }
   }
  },
  {
   "cell_type": "code",
   "execution_count": null,
   "outputs": [],
   "source": [
    "image = Image.open('image/b.png')\n",
    "image = np.array(image)\n",
    "img_gray = cv2.cvtColor(image, cv2.COLOR_BGR2GRAY)\n",
    "_, thresh = cv2.threshold(img_gray, 150, 255, cv2.THRESH_BINARY)\n",
    "contours, hierarchy = cv2.findContours(image=thresh, mode=cv2.RETR_TREE, method=cv2.CHAIN_APPROX_NONE)\n",
    "\n",
    "image_copy = image.copy() * 0\n",
    "cv2.drawContours(image=image_copy, contours=contours, contourIdx=-1, color=(255, 255, 255), thickness=2, lineType=cv2.LINE_AA)\n",
    "Image.fromarray(image_copy).save('image.png')\n",
    "Image.fromarray(image_copy)"
   ],
   "metadata": {
    "collapsed": false,
    "pycharm": {
     "name": "#%%\n"
    }
   }
  },
  {
   "cell_type": "code",
   "execution_count": null,
   "metadata": {
    "executionInfo": {
     "elapsed": 13276,
     "status": "ok",
     "timestamp": 1662930281020,
     "user": {
      "displayName": "Watch Look",
      "userId": "13511047437237984037"
     },
     "user_tz": 240
    },
    "id": "lvzQ-JJkOL8y"
   },
   "outputs": [],
   "source": [
    "inp = cv2.dnn.blobFromImage(image_array, scalefactor=1.0,\n",
    "                            mean=(104.00698793, 116.66876762, 122.67891434),\n",
    "                            swapRB=False, crop=False)\n",
    "net.setInput(inp)\n",
    "out = net.forward()"
   ]
  },
  {
   "cell_type": "code",
   "execution_count": null,
   "metadata": {
    "colab": {
     "base_uri": "https://localhost:8080/",
     "height": 624
    },
    "executionInfo": {
     "elapsed": 251,
     "status": "ok",
     "timestamp": 1662930281262,
     "user": {
      "displayName": "Watch Look",
      "userId": "13511047437237984037"
     },
     "user_tz": 240
    },
    "id": "9f5nl81rQ7kt",
    "outputId": "cd8e3a1f-84b4-471c-9a03-719b898cc10c",
    "pycharm": {
     "name": "#%%\n"
    }
   },
   "outputs": [],
   "source": [
    "image_to_audio('image/b.png', plot_spectrogram=True, padding=0, inverse_color=True)"
   ]
  },
  {
   "cell_type": "code",
   "execution_count": null,
   "metadata": {
    "colab": {
     "base_uri": "https://localhost:8080/"
    },
    "executionInfo": {
     "elapsed": 2299,
     "status": "ok",
     "timestamp": 1662930592500,
     "user": {
      "displayName": "Watch Look",
      "userId": "13511047437237984037"
     },
     "user_tz": 240
    },
    "id": "BlJdwCi8Yscl",
    "outputId": "cc377fcb-02b4-4149-f717-a9c0a2d06757",
    "pycharm": {
     "name": "#%%\n"
    }
   },
   "outputs": [],
   "source": [
    "path = 'image/paint.png'\n",
    "ip = ImageProcessor()\n",
    "ip.load_image(path)\n",
    "ip.resize(600)\n",
    "size = ip.image.size\n",
    "ip.add_top_padding(5)\n",
    "# ip.rotate(-90)\n",
    "# ip.image = ip.image.resize(size)\n",
    "ip.flip()\n",
    "# ip.inverse_color()\n",
    "ip.display_image()"
   ]
  },
  {
   "cell_type": "code",
   "execution_count": null,
   "metadata": {
    "colab": {
     "base_uri": "https://localhost:8080/",
     "height": 625
    },
    "executionInfo": {
     "elapsed": 6135,
     "status": "ok",
     "timestamp": 1662930323886,
     "user": {
      "displayName": "Watch Look",
      "userId": "13511047437237984037"
     },
     "user_tz": 240
    },
    "id": "WYyiJWJeN0Qy",
    "outputId": "b765580b-e552-4cb3-a164-3ec44a54a166",
    "pycharm": {
     "name": "#%%\n"
    }
   },
   "outputs": [],
   "source": [
    "image = Image.open('spectrogram/b.png')\n",
    "image = np.array(image)\n",
    "img_gray = cv2.cvtColor(image, cv2.COLOR_BGR2GRAY)\n",
    "_, thresh = cv2.threshold(img_gray, 150, 255, cv2.THRESH_BINARY)\n",
    "contours, hierarchy = cv2.findContours(image=thresh, mode=cv2.RETR_TREE, method=cv2.CHAIN_APPROX_NONE)\n",
    "\n",
    "image_copy = image.copy() * 0\n",
    "cv2.drawContours(image=image_copy, contours=contours, contourIdx=-1, color=(255, 255, 255), thickness=2, lineType=cv2.LINE_AA)\n",
    "Image.fromarray(image_copy).save('image.png')\n",
    "Image.fromarray(image_copy)"
   ]
  },
  {
   "cell_type": "code",
   "execution_count": null,
   "metadata": {
    "id": "967ocvxQN0Qz",
    "outputId": "ce01aef9-1295-4b4b-976c-41c91a453864",
    "pycharm": {
     "name": "#%%\n"
    }
   },
   "outputs": [],
   "source": [
    "image_to_audio('image.png', plot_spectrogram=True)"
   ]
  },
  {
   "cell_type": "code",
   "execution_count": null,
   "metadata": {
    "id": "q3xeSlEcN0Qz",
    "outputId": "1bea046a-dd2b-40b2-91bc-e0807b0ccdfe",
    "pycharm": {
     "name": "#%%\n"
    }
   },
   "outputs": [],
   "source": [
    "image_to_audio('spectrogram/b.png', plot_spectrogram=True, padding=0, inverse_color=True)"
   ]
  },
  {
   "cell_type": "code",
   "execution_count": null,
   "metadata": {
    "colab": {
     "base_uri": "https://localhost:8080/",
     "height": 1000
    },
    "executionInfo": {
     "elapsed": 1904,
     "status": "ok",
     "timestamp": 1656886082364,
     "user": {
      "displayName": "Watch Look",
      "userId": "13511047437237984037"
     },
     "user_tz": 240
    },
    "id": "dEc1fuB05g1c",
    "outputId": "36712db4-843b-4766-e31c-79d825287666",
    "pycharm": {
     "name": "#%%\n"
    }
   },
   "outputs": [],
   "source": [
    "path = 'spectrogram/paint.png'\n",
    "ip = ImageProcessor()\n",
    "ip.load_image(path)\n",
    "ip.resize(600)\n",
    "size = ip.image.size\n",
    "ip.add_top_padding(5)\n",
    "# ip.rotate(-90)\n",
    "# ip.image = ip.image.resize(size)\n",
    "ip.flip()\n",
    "# ip.inverse_color()\n",
    "ip.display_image()"
   ]
  },
  {
   "cell_type": "code",
   "execution_count": null,
   "metadata": {
    "id": "4gTPhJe-N0Q0",
    "outputId": "fd490c7e-1047-4d5f-b22e-17cce9107903",
    "pycharm": {
     "name": "#%%\n"
    }
   },
   "outputs": [],
   "source": [
    "ap = AudioProcessor(44100)\n",
    "ap.load_image_form_array(ip.image_to_array())\n",
    "ap.image_to_spectrogram(inverse_transform=False)\n",
    "ap.plot_spectrogram()\n",
    "ap.spectrogram_to_wave()\n",
    "ap.normalize_audio()\n",
    "ap.change_volume(0.1)\n",
    "ap.play_sound('audio/paint.wav')"
   ]
  },
  {
   "cell_type": "code",
   "execution_count": null,
   "metadata": {
    "id": "wdEAZylaN0Q0",
    "outputId": "50d30931-ff95-4e4c-ffeb-6a256ef541ec",
    "pycharm": {
     "name": "#%%\n"
    }
   },
   "outputs": [],
   "source": [
    "pad = 2\n",
    "size = ip.image.size\n",
    "image = ImageOps.pad(ip.image, (size[0], int(size[1]*pad)), centering=(0.5, 1))\n",
    "# image = image.resize(size)\n",
    "image"
   ]
  }
 ],
 "metadata": {
  "colab": {
   "collapsed_sections": [],
   "provenance": []
  },
  "kernelspec": {
   "display_name": "Python 3.8.10 64-bit",
   "language": "python",
   "name": "python3"
  },
  "language_info": {
   "codemirror_mode": {
    "name": "ipython",
    "version": 3
   },
   "file_extension": ".py",
   "mimetype": "text/x-python",
   "name": "python",
   "nbconvert_exporter": "python",
   "pygments_lexer": "ipython3",
   "version": "3.8.10"
  },
  "orig_nbformat": 4,
  "vscode": {
   "interpreter": {
    "hash": "11b68844c66d1f2a6e6746a523554d5ba43f7ea52abca50f4e275a522b24def1"
   }
  }
 },
 "nbformat": 4,
 "nbformat_minor": 0
}